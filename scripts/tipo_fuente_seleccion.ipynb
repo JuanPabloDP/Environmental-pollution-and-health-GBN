{
 "cells": [
  {
   "cell_type": "markdown",
   "id": "3f04a32f",
   "metadata": {},
   "source": [
    "# Enfocado a seleccionar el mejor valor de la variable de \"Tipo_de_Fuente\"."
   ]
  },
  {
   "cell_type": "code",
   "execution_count": 82,
   "id": "e711818b",
   "metadata": {},
   "outputs": [],
   "source": [
    "import pandas as pd"
   ]
  },
  {
   "cell_type": "code",
   "execution_count": 83,
   "id": "bffe50bf",
   "metadata": {},
   "outputs": [
    {
     "data": {
      "text/html": [
       "<div>\n",
       "<style scoped>\n",
       "    .dataframe tbody tr th:only-of-type {\n",
       "        vertical-align: middle;\n",
       "    }\n",
       "\n",
       "    .dataframe tbody tr th {\n",
       "        vertical-align: top;\n",
       "    }\n",
       "\n",
       "    .dataframe thead th {\n",
       "        text-align: right;\n",
       "    }\n",
       "</style>\n",
       "<table border=\"1\" class=\"dataframe\">\n",
       "  <thead>\n",
       "    <tr style=\"text-align: right;\">\n",
       "      <th></th>\n",
       "      <th>Entidad_federativa</th>\n",
       "      <th>Municipio</th>\n",
       "      <th>Tipo_de_Fuente</th>\n",
       "      <th>SO_2</th>\n",
       "      <th>CO</th>\n",
       "      <th>NOx</th>\n",
       "      <th>COV</th>\n",
       "      <th>PM_010</th>\n",
       "      <th>PM_2_5</th>\n",
       "      <th>NH_3</th>\n",
       "      <th>Entidad</th>\n",
       "    </tr>\n",
       "  </thead>\n",
       "  <tbody>\n",
       "    <tr>\n",
       "      <th>0</th>\n",
       "      <td>Aguascalientes</td>\n",
       "      <td>Aguascalientes</td>\n",
       "      <td>Fuentes fijas</td>\n",
       "      <td>546.316</td>\n",
       "      <td>94.308</td>\n",
       "      <td>209.404</td>\n",
       "      <td>2219.396</td>\n",
       "      <td>246.873</td>\n",
       "      <td>182.143</td>\n",
       "      <td>2.929</td>\n",
       "      <td>Aguascalientes</td>\n",
       "    </tr>\n",
       "    <tr>\n",
       "      <th>1</th>\n",
       "      <td>Aguascalientes</td>\n",
       "      <td>Aguascalientes</td>\n",
       "      <td>Fuentes de área</td>\n",
       "      <td>15.877</td>\n",
       "      <td>2396.298</td>\n",
       "      <td>333.306</td>\n",
       "      <td>12438.827</td>\n",
       "      <td>1567.037</td>\n",
       "      <td>483.104</td>\n",
       "      <td>13661.221</td>\n",
       "      <td>Aguascalientes</td>\n",
       "    </tr>\n",
       "    <tr>\n",
       "      <th>2</th>\n",
       "      <td>Aguascalientes</td>\n",
       "      <td>Aguascalientes</td>\n",
       "      <td>Fuentes móviles carreteros</td>\n",
       "      <td>308.001</td>\n",
       "      <td>48527.124</td>\n",
       "      <td>10486.580</td>\n",
       "      <td>5148.961</td>\n",
       "      <td>721.389</td>\n",
       "      <td>659.929</td>\n",
       "      <td>83.887</td>\n",
       "      <td>Aguascalientes</td>\n",
       "    </tr>\n",
       "    <tr>\n",
       "      <th>3</th>\n",
       "      <td>Aguascalientes</td>\n",
       "      <td>Aguascalientes</td>\n",
       "      <td>Fuentes móviles que no circulan por carretera</td>\n",
       "      <td>36.981</td>\n",
       "      <td>548.796</td>\n",
       "      <td>1042.305</td>\n",
       "      <td>96.899</td>\n",
       "      <td>66.318</td>\n",
       "      <td>63.940</td>\n",
       "      <td>0.226</td>\n",
       "      <td>Aguascalientes</td>\n",
       "    </tr>\n",
       "    <tr>\n",
       "      <th>4</th>\n",
       "      <td>Aguascalientes</td>\n",
       "      <td>Aguascalientes</td>\n",
       "      <td>Fuentes naturales</td>\n",
       "      <td>NaN</td>\n",
       "      <td>NaN</td>\n",
       "      <td>440.268</td>\n",
       "      <td>1663.833</td>\n",
       "      <td>NaN</td>\n",
       "      <td>NaN</td>\n",
       "      <td>NaN</td>\n",
       "      <td>Aguascalientes</td>\n",
       "    </tr>\n",
       "  </tbody>\n",
       "</table>\n",
       "</div>"
      ],
      "text/plain": [
       "  Entidad_federativa       Municipio  \\\n",
       "0     Aguascalientes  Aguascalientes   \n",
       "1     Aguascalientes  Aguascalientes   \n",
       "2     Aguascalientes  Aguascalientes   \n",
       "3     Aguascalientes  Aguascalientes   \n",
       "4     Aguascalientes  Aguascalientes   \n",
       "\n",
       "                                  Tipo_de_Fuente     SO_2         CO  \\\n",
       "0                                  Fuentes fijas  546.316     94.308   \n",
       "1                                Fuentes de área   15.877   2396.298   \n",
       "2                     Fuentes móviles carreteros  308.001  48527.124   \n",
       "3  Fuentes móviles que no circulan por carretera   36.981    548.796   \n",
       "4                              Fuentes naturales      NaN        NaN   \n",
       "\n",
       "         NOx        COV    PM_010   PM_2_5       NH_3         Entidad  \n",
       "0    209.404   2219.396   246.873  182.143      2.929  Aguascalientes  \n",
       "1    333.306  12438.827  1567.037  483.104  13661.221  Aguascalientes  \n",
       "2  10486.580   5148.961   721.389  659.929     83.887  Aguascalientes  \n",
       "3   1042.305     96.899    66.318   63.940      0.226  Aguascalientes  \n",
       "4    440.268   1663.833       NaN      NaN        NaN  Aguascalientes  "
      ]
     },
     "execution_count": 83,
     "metadata": {},
     "output_type": "execute_result"
    }
   ],
   "source": [
    "contaminantes = pd.read_csv(\"..\\data\\Contaminantes\\calidad_aire_2025.csv\")\n",
    "contaminantes.head()"
   ]
  },
  {
   "cell_type": "code",
   "execution_count": 84,
   "id": "9df36a13",
   "metadata": {},
   "outputs": [
    {
     "name": "stdout",
     "output_type": "stream",
     "text": [
      "(10521, 11)\n",
      "\n",
      "['Fuentes fijas' 'Fuentes de área' 'Fuentes móviles carreteros'\n",
      " 'Fuentes móviles que no circulan por carretera' 'Fuentes naturales']\n"
     ]
    }
   ],
   "source": [
    "print(contaminantes.shape)\n",
    "print()\n",
    "\n",
    "valores = contaminantes[\"Tipo_de_Fuente\"].unique()\n",
    "print(valores)"
   ]
  },
  {
   "cell_type": "markdown",
   "id": "41cdf6b4",
   "metadata": {},
   "source": [
    "## Aproximación: Descartar valores en función de la respectiva cantidad de valores nulos y cantidad de observaciones."
   ]
  },
  {
   "cell_type": "code",
   "execution_count": 85,
   "id": "806abf5e",
   "metadata": {},
   "outputs": [
    {
     "name": "stdout",
     "output_type": "stream",
     "text": [
      "==========\n",
      "Fuentes fijas\n",
      "==========\n",
      "Entidad_federativa    0\n",
      "Municipio             0\n",
      "Tipo_de_Fuente        0\n",
      "SO_2                  0\n",
      "CO                    0\n",
      "NOx                   0\n",
      "COV                   0\n",
      "PM_010                0\n",
      "PM_2_5                0\n",
      "NH_3                  0\n",
      "Entidad               0\n",
      "dtype: int64\n",
      "\n",
      "Observaciones: 700\n",
      "Cantidad NAN's: 0\n",
      "\n",
      "==========\n",
      "Fuentes de área\n",
      "==========\n",
      "Entidad_federativa    0\n",
      "Municipio             0\n",
      "Tipo_de_Fuente        0\n",
      "SO_2                  0\n",
      "CO                    0\n",
      "NOx                   0\n",
      "COV                   0\n",
      "PM_010                0\n",
      "PM_2_5                0\n",
      "NH_3                  0\n",
      "Entidad               0\n",
      "dtype: int64\n",
      "\n",
      "Observaciones: 2459\n",
      "Cantidad NAN's: 0\n",
      "\n",
      "==========\n",
      "Fuentes móviles carreteros\n",
      "==========\n",
      "Entidad_federativa    0\n",
      "Municipio             0\n",
      "Tipo_de_Fuente        0\n",
      "SO_2                  0\n",
      "CO                    0\n",
      "NOx                   0\n",
      "COV                   0\n",
      "PM_010                0\n",
      "PM_2_5                0\n",
      "NH_3                  0\n",
      "Entidad               0\n",
      "dtype: int64\n",
      "\n",
      "Observaciones: 2450\n",
      "Cantidad NAN's: 0\n",
      "\n",
      "==========\n",
      "Fuentes móviles que no circulan por carretera\n",
      "==========\n",
      "Entidad_federativa    0\n",
      "Municipio             0\n",
      "Tipo_de_Fuente        0\n",
      "SO_2                  0\n",
      "CO                    0\n",
      "NOx                   0\n",
      "COV                   0\n",
      "PM_010                0\n",
      "PM_2_5                0\n",
      "NH_3                  0\n",
      "Entidad               0\n",
      "dtype: int64\n",
      "\n",
      "Observaciones: 2459\n",
      "Cantidad NAN's: 0\n",
      "\n",
      "==========\n",
      "Fuentes naturales\n",
      "==========\n",
      "Entidad_federativa       0\n",
      "Municipio                0\n",
      "Tipo_de_Fuente           0\n",
      "SO_2                  2453\n",
      "CO                    2453\n",
      "NOx                      0\n",
      "COV                      0\n",
      "PM_010                2453\n",
      "PM_2_5                2453\n",
      "NH_3                  2453\n",
      "Entidad                  0\n",
      "dtype: int64\n",
      "\n",
      "Observaciones: 2453\n",
      "Cantidad NAN's: 12265\n",
      "\n"
     ]
    }
   ],
   "source": [
    "for i in valores:\n",
    "    print(\"==========\")\n",
    "    print(i)\n",
    "    print(\"==========\")\n",
    "    aux = contaminantes[contaminantes[\"Tipo_de_Fuente\"] == i]\n",
    "    print(aux.isna().sum())\n",
    "    print()\n",
    "    print(f\"Observaciones: {len(aux)}\")\n",
    "    print(f\"Cantidad NAN's: {aux.isna().sum().sum()}\")\n",
    "    print()"
   ]
  },
  {
   "cell_type": "code",
   "execution_count": 86,
   "id": "56d62595",
   "metadata": {},
   "outputs": [
    {
     "data": {
      "text/plain": [
       "12265"
      ]
     },
     "execution_count": 86,
     "metadata": {},
     "output_type": "execute_result"
    }
   ],
   "source": [
    "contaminantes.isna().sum().sum()"
   ]
  },
  {
   "cell_type": "markdown",
   "id": "89ffe1dc",
   "metadata": {},
   "source": [
    "Se observa que todos los valores nulos del DataFrame \"contaminantes\" pertenecen a las observaciones con \"Tipo_de_Fuente\" igual a \"Fuentes naturales\", por lo que es recomendable descartar este valor. Por la poca cantidad de observaciones del valor \"Fuentes fijas\" es recomendable descartarlo."
   ]
  },
  {
   "cell_type": "code",
   "execution_count": 87,
   "id": "88ba3f9e",
   "metadata": {},
   "outputs": [
    {
     "name": "stdout",
     "output_type": "stream",
     "text": [
      "['Fuentes de área', 'Fuentes móviles carreteros', 'Fuentes móviles que no circulan por carretera']\n"
     ]
    }
   ],
   "source": [
    "valores = [v for v in valores if v not in [\"Fuentes naturales\", \"Fuentes fijas\"]]\n",
    "print(valores)"
   ]
  },
  {
   "cell_type": "markdown",
   "id": "ee0c4453",
   "metadata": {},
   "source": [
    "## Aproximación: Priorizando la varianza, seleccionaremos el valor de \"Tipo_de_Fuente\" que obtenga mayor numero de veces en las que la varianza de cada gas sea la maxima comparada con la varianza del mismo gas pero de diferente \"Tipo_de_Fuente\"."
   ]
  },
  {
   "cell_type": "code",
   "execution_count": 88,
   "id": "faae9849",
   "metadata": {},
   "outputs": [
    {
     "name": "stdout",
     "output_type": "stream",
     "text": [
      "==========\n",
      "Fuentes de área\n",
      "==========\n"
     ]
    },
    {
     "name": "stdout",
     "output_type": "stream",
     "text": [
      "SO_2          509.17\n",
      "CO        6275773.27\n",
      "NOx         11635.42\n",
      "COV       4359995.90\n",
      "PM_010     231067.41\n",
      "PM_2_5      83574.89\n",
      "NH_3       865681.49\n",
      "dtype: float64\n",
      "\n",
      "==========\n",
      "Fuentes móviles carreteros\n",
      "==========\n",
      "SO_2          1583.01\n",
      "CO        57026581.08\n",
      "NOx        6028400.90\n",
      "COV         631033.39\n",
      "PM_010       14023.26\n",
      "PM_2_5       11093.86\n",
      "NH_3           229.09\n",
      "dtype: float64\n",
      "\n",
      "==========\n",
      "Fuentes móviles que no circulan por carretera\n",
      "==========\n",
      "SO_2         84.30\n",
      "CO        18038.32\n",
      "NOx       28269.89\n",
      "COV        1196.11\n",
      "PM_010      112.10\n",
      "PM_2_5      105.05\n",
      "NH_3          0.00\n",
      "dtype: float64\n",
      "\n"
     ]
    }
   ],
   "source": [
    "columnas = contaminantes.drop(columns=[\"Entidad_federativa\", \"Municipio\", \"Tipo_de_Fuente\", \"Entidad\"]).columns\n",
    "\n",
    "best = {}\n",
    "for col in columnas:\n",
    "    best[f\"val_{col}\"] = 0\n",
    "    best[f\"fuente_{col}\"] = \"Nada\"\n",
    "\n",
    "for fuente in valores:\n",
    "    print(\"==========\")\n",
    "    print(fuente)\n",
    "    print(\"==========\")\n",
    "    aux = contaminantes[contaminantes[\"Tipo_de_Fuente\"] == fuente]\n",
    "    print(aux.drop(columns=[\"Entidad_federativa\", \"Municipio\", \"Tipo_de_Fuente\", \"Entidad\"]).var().round(2))\n",
    "    for col in columnas:\n",
    "        var_actual = aux[col].var()\n",
    "        if var_actual > best[f\"val_{col}\"]:\n",
    "            best[f\"val_{col}\"] = var_actual\n",
    "            best[f\"fuente_{col}\"] = fuente   \n",
    "    print()"
   ]
  },
  {
   "cell_type": "code",
   "execution_count": 89,
   "id": "7e0932b5",
   "metadata": {},
   "outputs": [
    {
     "name": "stdout",
     "output_type": "stream",
     "text": [
      "==========\n",
      "Varianzas más grandes por columna\n",
      "==========\n",
      "SO_2: 1583.01\n",
      "Fuentes móviles carreteros\n",
      "\n",
      "CO: 57026581.08\n",
      "Fuentes móviles carreteros\n",
      "\n",
      "NOx: 6028400.90\n",
      "Fuentes móviles carreteros\n",
      "\n",
      "COV: 4359995.90\n",
      "Fuentes de área\n",
      "\n",
      "PM_010: 231067.41\n",
      "Fuentes de área\n",
      "\n",
      "PM_2_5: 83574.89\n",
      "Fuentes de área\n",
      "\n",
      "NH_3: 865681.49\n",
      "Fuentes de área\n",
      "\n"
     ]
    }
   ],
   "source": [
    "print(\"==========\")\n",
    "print(\"Varianzas más grandes por columna\")\n",
    "print(\"==========\")\n",
    "for col in columnas:\n",
    "    print(f\"{col}: {best[f'val_{col}']:.2f}\")\n",
    "    print(f\"{best[f'fuente_{col}']}\")\n",
    "    print()"
   ]
  },
  {
   "cell_type": "markdown",
   "id": "7ac537e6",
   "metadata": {},
   "source": [
    "Por lo tanto el valor seleccionado será Tipo_de_Fuente = \"Fuentes de área\"."
   ]
  }
 ],
 "metadata": {
  "kernelspec": {
   "display_name": "Python 3",
   "language": "python",
   "name": "python3"
  },
  "language_info": {
   "codemirror_mode": {
    "name": "ipython",
    "version": 3
   },
   "file_extension": ".py",
   "mimetype": "text/x-python",
   "name": "python",
   "nbconvert_exporter": "python",
   "pygments_lexer": "ipython3",
   "version": "3.11.4"
  }
 },
 "nbformat": 4,
 "nbformat_minor": 5
}
