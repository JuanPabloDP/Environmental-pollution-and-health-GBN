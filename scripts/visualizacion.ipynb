{
 "cells": [
  {
   "cell_type": "code",
   "execution_count": 1,
   "id": "bc9c5634",
   "metadata": {},
   "outputs": [],
   "source": [
    "import pandas as pd"
   ]
  },
  {
   "cell_type": "code",
   "execution_count": 5,
   "id": "edf2c794",
   "metadata": {},
   "outputs": [
    {
     "data": {
      "text/html": [
       "<div>\n",
       "<style scoped>\n",
       "    .dataframe tbody tr th:only-of-type {\n",
       "        vertical-align: middle;\n",
       "    }\n",
       "\n",
       "    .dataframe tbody tr th {\n",
       "        vertical-align: top;\n",
       "    }\n",
       "\n",
       "    .dataframe thead th {\n",
       "        text-align: right;\n",
       "    }\n",
       "</style>\n",
       "<table border=\"1\" class=\"dataframe\">\n",
       "  <thead>\n",
       "    <tr style=\"text-align: right;\">\n",
       "      <th></th>\n",
       "      <th>Entidad_federativa</th>\n",
       "      <th>Municipio</th>\n",
       "      <th>Tipo_de_Fuente</th>\n",
       "      <th>SO_2</th>\n",
       "      <th>CO</th>\n",
       "      <th>NOx</th>\n",
       "      <th>COV</th>\n",
       "      <th>PM_010</th>\n",
       "      <th>PM_2_5</th>\n",
       "      <th>NH_3</th>\n",
       "      <th>Entidad</th>\n",
       "    </tr>\n",
       "  </thead>\n",
       "  <tbody>\n",
       "    <tr>\n",
       "      <th>0</th>\n",
       "      <td>Aguascalientes</td>\n",
       "      <td>Aguascalientes</td>\n",
       "      <td>Fuentes fijas</td>\n",
       "      <td>546.316</td>\n",
       "      <td>94.308</td>\n",
       "      <td>209.404</td>\n",
       "      <td>2219.396</td>\n",
       "      <td>246.873</td>\n",
       "      <td>182.143</td>\n",
       "      <td>2.929</td>\n",
       "      <td>Aguascalientes</td>\n",
       "    </tr>\n",
       "    <tr>\n",
       "      <th>1</th>\n",
       "      <td>Aguascalientes</td>\n",
       "      <td>Aguascalientes</td>\n",
       "      <td>Fuentes de área</td>\n",
       "      <td>15.877</td>\n",
       "      <td>2396.298</td>\n",
       "      <td>333.306</td>\n",
       "      <td>12438.827</td>\n",
       "      <td>1567.037</td>\n",
       "      <td>483.104</td>\n",
       "      <td>13661.221</td>\n",
       "      <td>Aguascalientes</td>\n",
       "    </tr>\n",
       "    <tr>\n",
       "      <th>2</th>\n",
       "      <td>Aguascalientes</td>\n",
       "      <td>Aguascalientes</td>\n",
       "      <td>Fuentes móviles carreteros</td>\n",
       "      <td>308.001</td>\n",
       "      <td>48527.124</td>\n",
       "      <td>10486.580</td>\n",
       "      <td>5148.961</td>\n",
       "      <td>721.389</td>\n",
       "      <td>659.929</td>\n",
       "      <td>83.887</td>\n",
       "      <td>Aguascalientes</td>\n",
       "    </tr>\n",
       "    <tr>\n",
       "      <th>3</th>\n",
       "      <td>Aguascalientes</td>\n",
       "      <td>Aguascalientes</td>\n",
       "      <td>Fuentes móviles que no circulan por carretera</td>\n",
       "      <td>36.981</td>\n",
       "      <td>548.796</td>\n",
       "      <td>1042.305</td>\n",
       "      <td>96.899</td>\n",
       "      <td>66.318</td>\n",
       "      <td>63.940</td>\n",
       "      <td>0.226</td>\n",
       "      <td>Aguascalientes</td>\n",
       "    </tr>\n",
       "    <tr>\n",
       "      <th>4</th>\n",
       "      <td>Aguascalientes</td>\n",
       "      <td>Aguascalientes</td>\n",
       "      <td>Fuentes naturales</td>\n",
       "      <td>NaN</td>\n",
       "      <td>NaN</td>\n",
       "      <td>440.268</td>\n",
       "      <td>1663.833</td>\n",
       "      <td>NaN</td>\n",
       "      <td>NaN</td>\n",
       "      <td>NaN</td>\n",
       "      <td>Aguascalientes</td>\n",
       "    </tr>\n",
       "  </tbody>\n",
       "</table>\n",
       "</div>"
      ],
      "text/plain": [
       "  Entidad_federativa       Municipio  \\\n",
       "0     Aguascalientes  Aguascalientes   \n",
       "1     Aguascalientes  Aguascalientes   \n",
       "2     Aguascalientes  Aguascalientes   \n",
       "3     Aguascalientes  Aguascalientes   \n",
       "4     Aguascalientes  Aguascalientes   \n",
       "\n",
       "                                  Tipo_de_Fuente     SO_2         CO  \\\n",
       "0                                  Fuentes fijas  546.316     94.308   \n",
       "1                                Fuentes de área   15.877   2396.298   \n",
       "2                     Fuentes móviles carreteros  308.001  48527.124   \n",
       "3  Fuentes móviles que no circulan por carretera   36.981    548.796   \n",
       "4                              Fuentes naturales      NaN        NaN   \n",
       "\n",
       "         NOx        COV    PM_010   PM_2_5       NH_3         Entidad  \n",
       "0    209.404   2219.396   246.873  182.143      2.929  Aguascalientes  \n",
       "1    333.306  12438.827  1567.037  483.104  13661.221  Aguascalientes  \n",
       "2  10486.580   5148.961   721.389  659.929     83.887  Aguascalientes  \n",
       "3   1042.305     96.899    66.318   63.940      0.226  Aguascalientes  \n",
       "4    440.268   1663.833       NaN      NaN        NaN  Aguascalientes  "
      ]
     },
     "execution_count": 5,
     "metadata": {},
     "output_type": "execute_result"
    }
   ],
   "source": [
    "contaminantes=pd.read_csv(\"..\\data\\Contaminantes\\calidad_aire_2025.csv\")\n",
    "contaminantes.head()"
   ]
  },
  {
   "cell_type": "code",
   "execution_count": 7,
   "id": "c98b5e4b",
   "metadata": {},
   "outputs": [
    {
     "data": {
      "text/html": [
       "<div>\n",
       "<style scoped>\n",
       "    .dataframe tbody tr th:only-of-type {\n",
       "        vertical-align: middle;\n",
       "    }\n",
       "\n",
       "    .dataframe tbody tr th {\n",
       "        vertical-align: top;\n",
       "    }\n",
       "\n",
       "    .dataframe thead th {\n",
       "        text-align: right;\n",
       "    }\n",
       "</style>\n",
       "<table border=\"1\" class=\"dataframe\">\n",
       "  <thead>\n",
       "    <tr style=\"text-align: right;\">\n",
       "      <th></th>\n",
       "      <th>FOLIO_I</th>\n",
       "      <th>FOLIO_INT</th>\n",
       "      <th>t_hora</th>\n",
       "      <th>t_min</th>\n",
       "      <th>t_sumai</th>\n",
       "      <th>t_sumaf</th>\n",
       "      <th>hora_ini_1</th>\n",
       "      <th>fecha_ini_1</th>\n",
       "      <th>hora_fin_1</th>\n",
       "      <th>fecha_fin_1</th>\n",
       "      <th>...</th>\n",
       "      <th>valor_VIT_D</th>\n",
       "      <th>fecdeterm_VIT_D</th>\n",
       "      <th>ponde_v</th>\n",
       "      <th>cuenta_mic</th>\n",
       "      <th>ponde_m12a49</th>\n",
       "      <th>ponde_m0a11</th>\n",
       "      <th>estrato</th>\n",
       "      <th>region</th>\n",
       "      <th>est_sel</th>\n",
       "      <th>upm</th>\n",
       "    </tr>\n",
       "  </thead>\n",
       "  <tbody>\n",
       "    <tr>\n",
       "      <th>0</th>\n",
       "      <td>2022_01001004</td>\n",
       "      <td>2022_01001004_01</td>\n",
       "      <td>13</td>\n",
       "      <td>35</td>\n",
       "      <td>813</td>\n",
       "      <td>815</td>\n",
       "      <td>13:33:14</td>\n",
       "      <td>10/11/2022</td>\n",
       "      <td>13:35:20</td>\n",
       "      <td>10/11/2022</td>\n",
       "      <td>...</td>\n",
       "      <td></td>\n",
       "      <td></td>\n",
       "      <td></td>\n",
       "      <td>0</td>\n",
       "      <td></td>\n",
       "      <td></td>\n",
       "      <td>3</td>\n",
       "      <td>4</td>\n",
       "      <td>13</td>\n",
       "      <td>0100100011320</td>\n",
       "    </tr>\n",
       "    <tr>\n",
       "      <th>1</th>\n",
       "      <td>2022_01001008</td>\n",
       "      <td>2022_01001008_01</td>\n",
       "      <td>20</td>\n",
       "      <td>44</td>\n",
       "      <td>1244</td>\n",
       "      <td>1244</td>\n",
       "      <td>20:34:12</td>\n",
       "      <td>20/11/2022</td>\n",
       "      <td>20:34:55</td>\n",
       "      <td>20/11/2022</td>\n",
       "      <td>...</td>\n",
       "      <td></td>\n",
       "      <td></td>\n",
       "      <td></td>\n",
       "      <td>0</td>\n",
       "      <td></td>\n",
       "      <td></td>\n",
       "      <td>3</td>\n",
       "      <td>4</td>\n",
       "      <td>13</td>\n",
       "      <td>0100100011320</td>\n",
       "    </tr>\n",
       "    <tr>\n",
       "      <th>2</th>\n",
       "      <td>2022_01001008</td>\n",
       "      <td>2022_01001008_03</td>\n",
       "      <td>20</td>\n",
       "      <td>43</td>\n",
       "      <td>1243</td>\n",
       "      <td>1243</td>\n",
       "      <td>20:41:51</td>\n",
       "      <td>20/11/2022</td>\n",
       "      <td>20:42:23</td>\n",
       "      <td>20/11/2022</td>\n",
       "      <td>...</td>\n",
       "      <td></td>\n",
       "      <td></td>\n",
       "      <td></td>\n",
       "      <td>0</td>\n",
       "      <td></td>\n",
       "      <td></td>\n",
       "      <td>3</td>\n",
       "      <td>4</td>\n",
       "      <td>13</td>\n",
       "      <td>0100100011320</td>\n",
       "    </tr>\n",
       "    <tr>\n",
       "      <th>3</th>\n",
       "      <td>2022_01001009</td>\n",
       "      <td>2022_01001009_02</td>\n",
       "      <td>9</td>\n",
       "      <td>26</td>\n",
       "      <td>561</td>\n",
       "      <td>566</td>\n",
       "      <td>09:21:48</td>\n",
       "      <td>10/11/2022</td>\n",
       "      <td>09:26:03</td>\n",
       "      <td>10/11/2022</td>\n",
       "      <td>...</td>\n",
       "      <td></td>\n",
       "      <td></td>\n",
       "      <td>16452,5523392573</td>\n",
       "      <td>0</td>\n",
       "      <td></td>\n",
       "      <td></td>\n",
       "      <td>3</td>\n",
       "      <td>4</td>\n",
       "      <td>13</td>\n",
       "      <td>0100100011320</td>\n",
       "    </tr>\n",
       "    <tr>\n",
       "      <th>4</th>\n",
       "      <td>2022_01001011</td>\n",
       "      <td>2022_01001011_01</td>\n",
       "      <td>20</td>\n",
       "      <td>49</td>\n",
       "      <td>1249</td>\n",
       "      <td>1249</td>\n",
       "      <td>20:45:31</td>\n",
       "      <td>20/11/2022</td>\n",
       "      <td>20:46:06</td>\n",
       "      <td>20/11/2022</td>\n",
       "      <td>...</td>\n",
       "      <td></td>\n",
       "      <td></td>\n",
       "      <td></td>\n",
       "      <td>0</td>\n",
       "      <td></td>\n",
       "      <td></td>\n",
       "      <td>3</td>\n",
       "      <td>4</td>\n",
       "      <td>13</td>\n",
       "      <td>0100100011320</td>\n",
       "    </tr>\n",
       "  </tbody>\n",
       "</table>\n",
       "<p>5 rows × 132 columns</p>\n",
       "</div>"
      ],
      "text/plain": [
       "         FOLIO_I         FOLIO_INT  t_hora  t_min  t_sumai  t_sumaf  \\\n",
       "0  2022_01001004  2022_01001004_01      13     35      813      815   \n",
       "1  2022_01001008  2022_01001008_01      20     44     1244     1244   \n",
       "2  2022_01001008  2022_01001008_03      20     43     1243     1243   \n",
       "3  2022_01001009  2022_01001009_02       9     26      561      566   \n",
       "4  2022_01001011  2022_01001011_01      20     49     1249     1249   \n",
       "\n",
       "  hora_ini_1 fecha_ini_1 hora_fin_1 fecha_fin_1  ...  valor_VIT_D  \\\n",
       "0   13:33:14  10/11/2022   13:35:20  10/11/2022  ...                \n",
       "1   20:34:12  20/11/2022   20:34:55  20/11/2022  ...                \n",
       "2   20:41:51  20/11/2022   20:42:23  20/11/2022  ...                \n",
       "3   09:21:48  10/11/2022   09:26:03  10/11/2022  ...                \n",
       "4   20:45:31  20/11/2022   20:46:06  20/11/2022  ...                \n",
       "\n",
       "   fecdeterm_VIT_D           ponde_v cuenta_mic ponde_m12a49 ponde_m0a11  \\\n",
       "0                                             0                            \n",
       "1                                             0                            \n",
       "2                                             0                            \n",
       "3                   16452,5523392573          0                            \n",
       "4                                             0                            \n",
       "\n",
       "   estrato  region est_sel            upm  \n",
       "0        3       4      13  0100100011320  \n",
       "1        3       4      13  0100100011320  \n",
       "2        3       4      13  0100100011320  \n",
       "3        3       4      13  0100100011320  \n",
       "4        3       4      13  0100100011320  \n",
       "\n",
       "[5 rows x 132 columns]"
      ]
     },
     "execution_count": 7,
     "metadata": {},
     "output_type": "execute_result"
    }
   ],
   "source": [
    "muestraSangre=pd.read_csv(\"..\\data\\MuestraSangre\\ensanut2022_muestras.csv\", sep=\";\")\n",
    "muestraSangre.head()"
   ]
  },
  {
   "cell_type": "code",
   "execution_count": 6,
   "id": "fabc04e8",
   "metadata": {},
   "outputs": [
    {
     "name": "stderr",
     "output_type": "stream",
     "text": [
      "C:\\Users\\juanp\\AppData\\Local\\Temp\\ipykernel_25504\\3625751232.py:1: DtypeWarning: Columns (10,11,12,13,14) have mixed types. Specify dtype option on import or set low_memory=False.\n",
      "  socioDemo=pd.read_csv(\"..\\data\\SocioDemo\\ensanut2022_socdem.csv\", sep=\";\")\n"
     ]
    },
    {
     "data": {
      "text/html": [
       "<div>\n",
       "<style scoped>\n",
       "    .dataframe tbody tr th:only-of-type {\n",
       "        vertical-align: middle;\n",
       "    }\n",
       "\n",
       "    .dataframe tbody tr th {\n",
       "        vertical-align: top;\n",
       "    }\n",
       "\n",
       "    .dataframe thead th {\n",
       "        text-align: right;\n",
       "    }\n",
       "</style>\n",
       "<table border=\"1\" class=\"dataframe\">\n",
       "  <thead>\n",
       "    <tr style=\"text-align: right;\">\n",
       "      <th></th>\n",
       "      <th>FOLIO_I</th>\n",
       "      <th>FOLIO_INT</th>\n",
       "      <th>id_int</th>\n",
       "      <th>maquina1</th>\n",
       "      <th>entidad1</th>\n",
       "      <th>desc_ent1</th>\n",
       "      <th>municipio1</th>\n",
       "      <th>desc_mun1</th>\n",
       "      <th>h0302</th>\n",
       "      <th>h0303</th>\n",
       "      <th>...</th>\n",
       "      <th>h16054e</th>\n",
       "      <th>h1607</th>\n",
       "      <th>h1607e</th>\n",
       "      <th>completa1</th>\n",
       "      <th>region</th>\n",
       "      <th>entidad</th>\n",
       "      <th>ponde_f</th>\n",
       "      <th>estrato</th>\n",
       "      <th>est_sel</th>\n",
       "      <th>upm</th>\n",
       "    </tr>\n",
       "  </thead>\n",
       "  <tbody>\n",
       "    <tr>\n",
       "      <th>0</th>\n",
       "      <td>2022_01001001</td>\n",
       "      <td>2022_01001001_01</td>\n",
       "      <td>1</td>\n",
       "      <td>MQ426</td>\n",
       "      <td>1</td>\n",
       "      <td>01 AGUASCALIENTES</td>\n",
       "      <td>1</td>\n",
       "      <td>001 AGUASCALIENTES</td>\n",
       "      <td>2</td>\n",
       "      <td>51</td>\n",
       "      <td>...</td>\n",
       "      <td></td>\n",
       "      <td></td>\n",
       "      <td></td>\n",
       "      <td>1</td>\n",
       "      <td>4</td>\n",
       "      <td>1</td>\n",
       "      <td>706,78491885843</td>\n",
       "      <td>3</td>\n",
       "      <td>13</td>\n",
       "      <td>0100100011320</td>\n",
       "    </tr>\n",
       "    <tr>\n",
       "      <th>1</th>\n",
       "      <td>2022_01001001</td>\n",
       "      <td>2022_01001001_02</td>\n",
       "      <td>2</td>\n",
       "      <td>MQ426</td>\n",
       "      <td>1</td>\n",
       "      <td>01 AGUASCALIENTES</td>\n",
       "      <td>1</td>\n",
       "      <td>001 AGUASCALIENTES</td>\n",
       "      <td>2</td>\n",
       "      <td>14</td>\n",
       "      <td>...</td>\n",
       "      <td></td>\n",
       "      <td></td>\n",
       "      <td></td>\n",
       "      <td>1</td>\n",
       "      <td>4</td>\n",
       "      <td>1</td>\n",
       "      <td>937,020931828615</td>\n",
       "      <td>3</td>\n",
       "      <td>13</td>\n",
       "      <td>0100100011320</td>\n",
       "    </tr>\n",
       "    <tr>\n",
       "      <th>2</th>\n",
       "      <td>2022_01001002</td>\n",
       "      <td>2022_01001002_01</td>\n",
       "      <td>1</td>\n",
       "      <td>MQ417</td>\n",
       "      <td>1</td>\n",
       "      <td>01 AGUASCALIENTES</td>\n",
       "      <td>1</td>\n",
       "      <td>001 AGUASCALIENTES</td>\n",
       "      <td>1</td>\n",
       "      <td>60</td>\n",
       "      <td>...</td>\n",
       "      <td></td>\n",
       "      <td></td>\n",
       "      <td></td>\n",
       "      <td>1</td>\n",
       "      <td>4</td>\n",
       "      <td>1</td>\n",
       "      <td>760,861696609056</td>\n",
       "      <td>3</td>\n",
       "      <td>13</td>\n",
       "      <td>0100100011320</td>\n",
       "    </tr>\n",
       "    <tr>\n",
       "      <th>3</th>\n",
       "      <td>2022_01001002</td>\n",
       "      <td>2022_01001002_02</td>\n",
       "      <td>2</td>\n",
       "      <td>MQ417</td>\n",
       "      <td>1</td>\n",
       "      <td>01 AGUASCALIENTES</td>\n",
       "      <td>1</td>\n",
       "      <td>001 AGUASCALIENTES</td>\n",
       "      <td>2</td>\n",
       "      <td>60</td>\n",
       "      <td>...</td>\n",
       "      <td></td>\n",
       "      <td></td>\n",
       "      <td></td>\n",
       "      <td>1</td>\n",
       "      <td>4</td>\n",
       "      <td>1</td>\n",
       "      <td>706,78491885843</td>\n",
       "      <td>3</td>\n",
       "      <td>13</td>\n",
       "      <td>0100100011320</td>\n",
       "    </tr>\n",
       "    <tr>\n",
       "      <th>4</th>\n",
       "      <td>2022_01001003</td>\n",
       "      <td>2022_01001003_01</td>\n",
       "      <td>1</td>\n",
       "      <td>MQ425</td>\n",
       "      <td>1</td>\n",
       "      <td>01 AGUASCALIENTES</td>\n",
       "      <td>1</td>\n",
       "      <td>001 AGUASCALIENTES</td>\n",
       "      <td>2</td>\n",
       "      <td>64</td>\n",
       "      <td>...</td>\n",
       "      <td></td>\n",
       "      <td>15</td>\n",
       "      <td></td>\n",
       "      <td>1</td>\n",
       "      <td>4</td>\n",
       "      <td>1</td>\n",
       "      <td>706,78491885843</td>\n",
       "      <td>3</td>\n",
       "      <td>13</td>\n",
       "      <td>0100100011320</td>\n",
       "    </tr>\n",
       "  </tbody>\n",
       "</table>\n",
       "<p>5 rows × 154 columns</p>\n",
       "</div>"
      ],
      "text/plain": [
       "         FOLIO_I         FOLIO_INT  id_int maquina1  entidad1  \\\n",
       "0  2022_01001001  2022_01001001_01       1    MQ426         1   \n",
       "1  2022_01001001  2022_01001001_02       2    MQ426         1   \n",
       "2  2022_01001002  2022_01001002_01       1    MQ417         1   \n",
       "3  2022_01001002  2022_01001002_02       2    MQ417         1   \n",
       "4  2022_01001003  2022_01001003_01       1    MQ425         1   \n",
       "\n",
       "           desc_ent1  municipio1           desc_mun1  h0302  h0303  ...  \\\n",
       "0  01 AGUASCALIENTES           1  001 AGUASCALIENTES      2     51  ...   \n",
       "1  01 AGUASCALIENTES           1  001 AGUASCALIENTES      2     14  ...   \n",
       "2  01 AGUASCALIENTES           1  001 AGUASCALIENTES      1     60  ...   \n",
       "3  01 AGUASCALIENTES           1  001 AGUASCALIENTES      2     60  ...   \n",
       "4  01 AGUASCALIENTES           1  001 AGUASCALIENTES      2     64  ...   \n",
       "\n",
       "  h16054e h1607 h1607e completa1 region  entidad           ponde_f  estrato  \\\n",
       "0                              1      4        1   706,78491885843        3   \n",
       "1                              1      4        1  937,020931828615        3   \n",
       "2                              1      4        1  760,861696609056        3   \n",
       "3                              1      4        1   706,78491885843        3   \n",
       "4            15                1      4        1   706,78491885843        3   \n",
       "\n",
       "   est_sel            upm  \n",
       "0       13  0100100011320  \n",
       "1       13  0100100011320  \n",
       "2       13  0100100011320  \n",
       "3       13  0100100011320  \n",
       "4       13  0100100011320  \n",
       "\n",
       "[5 rows x 154 columns]"
      ]
     },
     "execution_count": 6,
     "metadata": {},
     "output_type": "execute_result"
    }
   ],
   "source": [
    "socioDemo=pd.read_csv(\"..\\data\\SocioDemo\\ensanut2022_socdem.csv\", sep=\";\")\n",
    "socioDemo.head()"
   ]
  },
  {
   "cell_type": "code",
   "execution_count": 15,
   "id": "54469b94",
   "metadata": {},
   "outputs": [
    {
     "data": {
      "text/plain": [
       "(10521, 11)"
      ]
     },
     "execution_count": 15,
     "metadata": {},
     "output_type": "execute_result"
    }
   ],
   "source": [
    "contaminantes.shape"
   ]
  },
  {
   "cell_type": "code",
   "execution_count": 8,
   "id": "0d3b38f9",
   "metadata": {},
   "outputs": [
    {
     "data": {
      "text/plain": [
       "np.int64(2453)"
      ]
     },
     "execution_count": 8,
     "metadata": {},
     "output_type": "execute_result"
    }
   ],
   "source": [
    "contaminantes[\"SO_2\"].isna().sum()"
   ]
  },
  {
   "cell_type": "code",
   "execution_count": 9,
   "id": "61534113",
   "metadata": {},
   "outputs": [
    {
     "data": {
      "text/plain": [
       "np.int64(2453)"
      ]
     },
     "execution_count": 9,
     "metadata": {},
     "output_type": "execute_result"
    }
   ],
   "source": [
    "contaminantes[\"CO\"].isna().sum()"
   ]
  },
  {
   "cell_type": "code",
   "execution_count": 10,
   "id": "b4b5a2c5",
   "metadata": {},
   "outputs": [
    {
     "data": {
      "text/plain": [
       "np.int64(0)"
      ]
     },
     "execution_count": 10,
     "metadata": {},
     "output_type": "execute_result"
    }
   ],
   "source": [
    "contaminantes[\"NOx\"].isna().sum()"
   ]
  },
  {
   "cell_type": "code",
   "execution_count": 11,
   "id": "792b58fb",
   "metadata": {},
   "outputs": [
    {
     "data": {
      "text/plain": [
       "np.int64(0)"
      ]
     },
     "execution_count": 11,
     "metadata": {},
     "output_type": "execute_result"
    }
   ],
   "source": [
    "contaminantes[\"COV\"].isna().sum()"
   ]
  },
  {
   "cell_type": "code",
   "execution_count": 12,
   "id": "cc0d4f47",
   "metadata": {},
   "outputs": [
    {
     "data": {
      "text/plain": [
       "np.int64(2453)"
      ]
     },
     "execution_count": 12,
     "metadata": {},
     "output_type": "execute_result"
    }
   ],
   "source": [
    "contaminantes[\"PM_010\"].isna().sum()"
   ]
  },
  {
   "cell_type": "code",
   "execution_count": 13,
   "id": "f02bbb48",
   "metadata": {},
   "outputs": [
    {
     "data": {
      "text/plain": [
       "np.int64(2453)"
      ]
     },
     "execution_count": 13,
     "metadata": {},
     "output_type": "execute_result"
    }
   ],
   "source": [
    "contaminantes[\"PM_2_5\"].isna().sum()"
   ]
  },
  {
   "cell_type": "code",
   "execution_count": 14,
   "id": "07bd38a1",
   "metadata": {},
   "outputs": [
    {
     "data": {
      "text/plain": [
       "np.int64(2453)"
      ]
     },
     "execution_count": 14,
     "metadata": {},
     "output_type": "execute_result"
    }
   ],
   "source": [
    "contaminantes[\"NH_3\"].isna().sum()"
   ]
  },
  {
   "cell_type": "code",
   "execution_count": 17,
   "id": "3bf7ab3b",
   "metadata": {},
   "outputs": [
    {
     "data": {
      "text/plain": [
       "array(['Aguascalientes', 'Baja California', 'Baja California Sur',\n",
       "       'Campeche', 'Coahuila', 'Colima', 'Chiapas', 'Chihuahua',\n",
       "       'Ciudad de México', 'Durango', 'Guanajuato', 'Guerrero', 'Hidalgo',\n",
       "       'Jalisco', 'Estado de México', 'Michoacán', 'Morelos', 'Nayarit',\n",
       "       'Nuevo León', 'Oaxaca', 'Puebla', 'Querétaro', 'Quintana Roo',\n",
       "       'San Luis Potosí', 'Sinaloa', 'Sonora', 'Tabasco', 'Tamaulipas',\n",
       "       'Tlaxcala', 'Veracruz', 'Yucatán', 'Zacatecas'], dtype=object)"
      ]
     },
     "execution_count": 17,
     "metadata": {},
     "output_type": "execute_result"
    }
   ],
   "source": [
    "contaminantes[\"Entidad\"].unique()"
   ]
  },
  {
   "cell_type": "code",
   "execution_count": 18,
   "id": "b747ca27",
   "metadata": {},
   "outputs": [
    {
     "data": {
      "text/plain": [
       "array(['Aguascalientes', 'Asientos', 'Calvillo', ..., 'Zacatecas',\n",
       "       'Trancoso', 'Santa María de la Paz'], dtype=object)"
      ]
     },
     "execution_count": 18,
     "metadata": {},
     "output_type": "execute_result"
    }
   ],
   "source": [
    "contaminantes[\"Municipio\"].unique()"
   ]
  },
  {
   "cell_type": "code",
   "execution_count": 19,
   "id": "db77234e",
   "metadata": {},
   "outputs": [
    {
     "data": {
      "text/plain": [
       "array(['01 AGUASCALIENTES', '02 BAJA CALIFORNIA',\n",
       "       '03 BAJA CALIFORNIA SUR', '04 CAMPECHE', '05 COAHUILA DE ZARAGOZA',\n",
       "       '06 COLIMA', '07 CHIAPAS', '08 CHIHUAHUA', '09 CIUDAD DE MÉXICO',\n",
       "       '10 DURANGO', '11 GUANAJUATO', '12 GUERRERO', '13 HIDALGO',\n",
       "       '14 JALISCO', '15 MÉXICO', '16 MICHOACÁN DE OCAMPO', '17 MORELOS',\n",
       "       '18 NAYARIT', '19 NUEVO LEÓN', '20 OAXACA', '21 PUEBLA',\n",
       "       '22 QUERÉTARO', '23 QUINTANA ROO', '24 SAN LUIS POTOSÍ',\n",
       "       '25 SINALOA', '26 SONORA', '27 TABASCO', '28 TAMAULIPAS',\n",
       "       '29 TLAXCALA', '30 VERACRUZ DE IGNACIO DE LA LLAVE', '31 YUCATÁN',\n",
       "       '32 ZACATECAS'], dtype=object)"
      ]
     },
     "execution_count": 19,
     "metadata": {},
     "output_type": "execute_result"
    }
   ],
   "source": [
    "socioDemo[\"desc_ent1\"].unique()"
   ]
  },
  {
   "cell_type": "code",
   "execution_count": 20,
   "id": "5219a49f",
   "metadata": {},
   "outputs": [
    {
     "data": {
      "text/plain": [
       "array(['001 AGUASCALIENTES', '002 ASIENTOS', '005 JESÚS MARÍA',\n",
       "       '006 PABELLÓN DE ARTEAGA', '009 TEPEZALÁ', '001 ENSENADA',\n",
       "       '002 MEXICALI', '003 TECATE', '004 TIJUANA', '001 COMONDÚ',\n",
       "       '003 LA PAZ', '008 LOS CABOS', '001 CALKINÍ', '002 CAMPECHE',\n",
       "       '003 CARMEN', '004 CHAMPOTÓN', '008 TENABO', '002 ACUÑA',\n",
       "       '017 MATAMOROS', '024 PARRAS', '026 PROGRESO', '027 RAMOS ARIZPE',\n",
       "       '030 SALTILLO', '035 TORREÓN', '038 ZARAGOZA', '002 COLIMA',\n",
       "       '003 COMALA', '007 MANZANILLO', '009 TECOMÁN',\n",
       "       '010 VILLA DE ÁLVAREZ', '008 ANGEL ALBINO CORZO',\n",
       "       '020 LA CONCORDIA', '022 CHALCHIHUITÁN', '039 HUITIUPÁN',\n",
       "       '052 LAS MARGARITAS', '057 MOTOZINTLA', '058 NICOLÁS RUÍZ',\n",
       "       '087 SUCHIATE', '089 TAPACHULA', '101 TUXTLA GUTIÉRREZ',\n",
       "       '108 VILLAFLORES', '002 ALDAMA', '011 CAMARGO', '017 CUAUHTÉMOC',\n",
       "       '019 CHIHUAHUA', '021 DELICIAS', '032 HIDALGO DEL PARRAL',\n",
       "       '037 JUÁREZ', '050 NUEVO CASAS GRANDES', '064 EL TULE',\n",
       "       '002 AZCAPOTZALCO', '003 COYOACÁN', '005 GUSTAVO A. MADERO',\n",
       "       '006 IZTACALCO', '007 IZTAPALAPA', '008 LA MAGDALENA CONTRERAS',\n",
       "       '010 ÁLVARO OBREGÓN', '012 TLALPAN', '013 XOCHIMILCO',\n",
       "       '014 BENITO JUÁREZ', '015 CUAUHTÉMOC', '016 MIGUEL HIDALGO',\n",
       "       '017 VENUSTIANO CARRANZA', '005 DURANGO', '007 GÓMEZ PALACIO',\n",
       "       '008 GUADALUPE VICTORIA', '012 LERDO', '028 SAN JUAN DEL RÍO',\n",
       "       '001 ABASOLO', '003 SAN MIGUEL DE ALLENDE', '005 APASEO EL GRANDE',\n",
       "       '007 CELAYA', '009 COMONFORT',\n",
       "       '014 DOLORES HIDALGO CUNA DE LA INDEPEN', '015 GUANAJUATO',\n",
       "       '016 HUANÍMARO', '017 IRAPUATO', '018 JARAL DEL PROGRESO',\n",
       "       '020 LEÓN', '023 PÉNJAMO', '027 SALAMANCA', '030 SAN FELIPE',\n",
       "       '032 SAN JOSÉ ITURBIDE', '033 SAN LUIS DE LA PAZ',\n",
       "       '037 SILAO DE LA VICTORIA', '041 URIANGATO',\n",
       "       '042 VALLE DE SANTIAGO', '044 VILLAGRÁN', '001 ACAPULCO DE JUÁREZ',\n",
       "       '007 ARCELIA', '029 CHILPANCINGO DE LOS BRAVO',\n",
       "       '031 GENERAL CANUTO A. NERI', '032 GENERAL HELIODORO CASTILLO',\n",
       "       '035 IGUALA DE LA INDEPENDENCIA', '051 QUECHULTENANGO',\n",
       "       '061 TIXTLA DE GUERRERO', '064 TLALCHAPA', '002 ACAXOCHITLÁN',\n",
       "       '027 HUEHUETLA', '041 MIXQUIAHUALA DE JUÁREZ',\n",
       "       '046 SAN FELIPE ORIZATLÁN', '048 PACHUCA DE SOTO',\n",
       "       '051 MINERAL DE LA REFORMA',\n",
       "       '056 SANTIAGO TULANTEPEC DE LUGO GUERRE', '057 SINGUILUCAN',\n",
       "       '076 TULA DE ALLENDE', '077 TULANCINGO DE BRAVO',\n",
       "       '021 CASIMIRO CASTILLO', '039 GUADALAJARA', '067 PUERTO VALLARTA',\n",
       "       '093 TEPATITLÁN DE MORELOS', '097 TLAJOMULCO DE ZÚÑIGA',\n",
       "       '098 SAN PEDRO TLAQUEPAQUE', '012 ATIZAPÁN',\n",
       "       '013 ATIZAPÁN DE ZARAGOZA', '025 CHALCO', '031 CHIMALHUACÁN',\n",
       "       '033 ECATEPEC DE MORELOS', '037 HUIXQUILUCAN', '039 IXTAPALUCA',\n",
       "       '054 METEPEC', '058 NEZAHUALCÓYOTL', '070 LA PAZ', '082 TEJUPILCO',\n",
       "       '092 TEOTIHUACÁN', '104 TLALNEPANTLA DE BAZ', '106 TOLUCA',\n",
       "       '109 TULTITLÁN', '115 XONACATLÁN', '118 ZINACANTEPEC',\n",
       "       '122 VALLE DE CHALCO SOLIDARIDAD', '006 APATZINGÁN',\n",
       "       '015 COALCOMÁN DE VÁZQUEZ PALLARES', '019 COTIJA', '043 JACONA',\n",
       "       '052 LÁZARO CÁRDENAS', '053 MORELIA', '069 LA PIEDAD',\n",
       "       '082 TACÁMBARO', '102 URUAPAN', '107 ZACAPU',\n",
       "       '005 COATLÁN DEL RÍO', '006 CUAUTLA', '007 CUERNAVACA',\n",
       "       '008 EMILIANO ZAPATA', '011 JIUTEPEC', '018 TEMIXCO',\n",
       "       '019 TEPALCINGO', '024 TLALTIZAPÁN DE ZAPATA', '028 XOCHITEPEC',\n",
       "       '029 YAUTEPEC', '036 HUEYAPAN', '006 IXTLÁN DEL RÍO',\n",
       "       '015 SANTIAGO IXCUINTLA', '017 TEPIC', '006 APODACA',\n",
       "       '007 ARAMBERRI', '009 CADEREYTA JIMÉNEZ', '012 CIÉNEGA DE FLORES',\n",
       "       '018 GARCÍA', '019 SAN PEDRO GARZA GARCÍA', '021 GENERAL ESCOBEDO',\n",
       "       '026 GUADALUPE', '027 LOS HERRERAS', '031 JUÁREZ',\n",
       "       '032 LAMPAZOS DE NARANJO', '039 MONTERREY', '041 PESQUERÍA',\n",
       "       '044 SABINAS HIDALGO', '046 SAN NICOLÁS DE LOS GARZA',\n",
       "       '048 SANTA CATARINA', '049 SANTIAGO',\n",
       "       '002 ACATLÁN DE PÉREZ FIGUEROA', '016 COICOYÁN DE LAS FLORES',\n",
       "       '039 HEROICA CIUDAD DE HUAJUAPAN DE LEÓ', '067 OAXACA DE JUÁREZ',\n",
       "       '076 LA REFORMA', '258 SAN MIGUEL ACHIUTLA',\n",
       "       '272 SAN MIGUEL PANIXTLAHUACA',\n",
       "       '339 SAN PEDRO Y SAN PABLO TEPOSCOLULA',\n",
       "       '390 SANTA LUCÍA DEL CAMINO', '499 SANTIAGO YOLOMÉCATL',\n",
       "       '515 SANTO DOMINGO TEHUANTEPEC', '010 AJALPAN', '066 GUADALUPE',\n",
       "       '085 IZÚCAR DE MATAMOROS', '114 PUEBLA', '119 SAN ANDRÉS CHOLULA',\n",
       "       '147 SANTA INÉS AHUATEMPAN', '148 SANTA ISABEL CHOLULA',\n",
       "       '212 ZAUTLA', '001 AMEALCO DE BONFIL', '004 CADEREYTA DE MONTES',\n",
       "       '011 EL MARQUÉS', '012 PEDRO ESCOBEDO', '014 QUERÉTARO',\n",
       "       '016 SAN JUAN DEL RÍO', '002 FELIPE CARRILLO PUERTO',\n",
       "       '004 OTHÓN P. BLANCO', '005 BENITO JUÁREZ',\n",
       "       '006 JOSÉ MARÍA MORELOS', '008 SOLIDARIDAD', '013 CIUDAD VALLES',\n",
       "       '021 MEXQUITIC DE CARMONA', '028 SAN LUIS POTOSÍ',\n",
       "       '035 SOLEDAD DE GRACIANO SÁNCHEZ', '037 TAMAZUNCHALE',\n",
       "       '049 VILLA DE RAMOS', '052 VILLA JUÁREZ', '001 AHOME',\n",
       "       '002 ANGOSTURA', '006 CULIACÁN', '011 GUASAVE', '012 MAZATLÁN',\n",
       "       '015 SALVADOR ALVARADO', '018 NAVOLATO', '002 AGUA PRIETA',\n",
       "       '019 CANANEA', '029 GUAYMAS', '030 HERMOSILLO', '042 NAVOJOA',\n",
       "       '043 NOGALES', '047 PITIQUITO', '055 SAN LUIS RÍO COLORADO',\n",
       "       '002 CÁRDENAS', '004 CENTRO', '005 COMALCALCO', '006 CUNDUACÁN',\n",
       "       '007 EMILIANO ZAPATA', '008 HUIMANGUILLO', '010 JALPA DE MÉNDEZ',\n",
       "       '013 NACAJUCA', '017 TENOSIQUE', '003 ALTAMIRA',\n",
       "       '009 CIUDAD MADERO', '017 JAUMAVE', '018 JIMÉNEZ',\n",
       "       '027 NUEVO LAREDO', '032 REYNOSA', '033 RÍO BRAVO', '038 TAMPICO',\n",
       "       '041 VICTORIA', '007 EL CARMEN TEQUEXQUITLA', '013 HUAMANTLA',\n",
       "       '018 CONTLA DE JUAN CUAMATZI', '031 TETLA DE LA SOLIDARIDAD',\n",
       "       '043 YAUHQUEMEHCAN', '058 SANTA CATARINA AYOMETLA',\n",
       "       '033 CAZONES DE HERRERA', '039 COATZACOALCOS', '087 XALAPA',\n",
       "       '123 PÁNUCO', '124 PAPANTLA', '131 POZA RICA DE HIDALGO',\n",
       "       '159 TEHUIPANGO', '167 TEPETZINTLA', '201 ZONGOLICA',\n",
       "       '206 NANCHITAL DE LÁZARO CÁRDENAS DEL R', '038 HUNUCMÁ',\n",
       "       '041 KANASÍN', '050 MÉRIDA', '052 MOTUL', '056 OXKUTZCAB',\n",
       "       '079 TEKAX', '098 TZUCACAB', '101 UMÁN', '010 FRESNILLO',\n",
       "       '017 GUADALUPE', '023 JUCHIPILA', '024 LORETO',\n",
       "       '035 NORIA DE ÁNGELES', '036 OJOCALIENTE', '039 RÍO GRANDE',\n",
       "       '040 SAIN ALTO', '052 VILLA GARCÍA', '053 VILLA GONZÁLEZ ORTEGA',\n",
       "       '056 ZACATECAS'], dtype=object)"
      ]
     },
     "execution_count": 20,
     "metadata": {},
     "output_type": "execute_result"
    }
   ],
   "source": [
    "socioDemo[\"desc_mun1\"].unique()"
   ]
  },
  {
   "cell_type": "code",
   "execution_count": 23,
   "id": "0e19b733",
   "metadata": {},
   "outputs": [
    {
     "data": {
      "text/plain": [
       "array(['Acatic', 'Acatlán de Juárez', 'Ahualulco de Mercado', 'Amacueca',\n",
       "       'Amatitán', 'Ameca', 'San Juanito de Escobedo', 'Arandas',\n",
       "       'El Arenal', 'Atemajac de Brizuela', 'Atengo', 'Atenguillo',\n",
       "       'Atotonilco el Alto', 'Atoyac', 'Autlán de Navarro', 'Ayotlán',\n",
       "       'Ayutla', 'La Barca', 'Bolaños', 'Cabo Corrientes',\n",
       "       'Casimiro Castillo', 'Cihuatlán', 'Zapotlán el Grande', 'Cocula',\n",
       "       'Colotlán', 'Concepción de Buenos Aires',\n",
       "       'Cuautitlán de García Barragán', 'Cuautla', 'Cuquío', 'Chapala',\n",
       "       'Chimaltitán', 'Chiquilistlán', 'Degollado', 'Ejutla',\n",
       "       'Encarnación de Díaz', 'Etzatlán', 'El Grullo', 'Guachinango',\n",
       "       'Guadalajara', 'Hostotipaquillo', 'Huejúcar',\n",
       "       'Huejuquilla el Alto', 'La Huerta',\n",
       "       'Ixtlahuacán de los Membrillos', 'Ixtlahuacán del Río',\n",
       "       'Jalostotitlán', 'Jamay', 'Jesús María', 'Jilotlán de los Dolores',\n",
       "       'Jocotepec', 'Juanacatlán', 'Juchitlán', 'Lagos de Moreno',\n",
       "       'El Limón', 'Magdalena', 'Santa María del Oro',\n",
       "       'La Manzanilla de la Paz', 'Mascota', 'Mazamitla', 'Mexticacán',\n",
       "       'Mezquitic', 'Mixtlán', 'Ocotlán', 'Ojuelos de Jalisco', 'Pihuamo',\n",
       "       'Poncitlán', 'Puerto Vallarta', 'Villa Purificación', 'Quitupan',\n",
       "       'El Salto', 'San Cristóbal de La Barranca',\n",
       "       'San Diego de Alejandría', 'San Juan de los Lagos', 'San Julián',\n",
       "       'San Marcos', 'San Martín de Bolaños', 'San Martín Hidalgo',\n",
       "       'San Miguel El Alto', 'Gómez Farías', 'San Sebastián del Oeste',\n",
       "       'Santa María de los Ángeles', 'Sayula', 'Tala', 'Talpa de Allende',\n",
       "       'Tamazula de Gordiano', 'Tapalpa', 'Tecalitlán', 'Tecolotlán',\n",
       "       'Techaluta de Montenegro', 'Tenamaxtlán', 'Teocaltiche',\n",
       "       'Teocuitatlán de Corona', 'Tepatitlán de Morelos', 'Tequila',\n",
       "       'Teuchitlán', 'Tizapán el Alto', 'Tlajomulco de Zúñiga',\n",
       "       'San Pedro Tlaquepaque', 'Tolimán', 'Tomatlán', 'Tonalá', 'Tonaya',\n",
       "       'Tonila', 'Totatiche', 'Tototlán', 'Tuxcacuesco', 'Tuxcueca',\n",
       "       'Tuxpan', 'Unión de San Antonio', 'Unión de Tula',\n",
       "       'Valle de Guadalupe', 'Valle de Juárez', 'San Gabriel',\n",
       "       'Villa Corona', 'Villa Guerrero', 'Villa Hidalgo',\n",
       "       'Cañadas de Obregón', 'Yahualica de González Gallo',\n",
       "       'Zacoalco de Torres', 'Zapopan', 'Zapotiltic',\n",
       "       'Zapotitlán de Vadillo', 'Zapotlán del Rey', 'Zapotlanejo',\n",
       "       'San Ignacio Cerro Gordo'], dtype=object)"
      ]
     },
     "execution_count": 23,
     "metadata": {},
     "output_type": "execute_result"
    }
   ],
   "source": [
    "contaminantes[contaminantes[\"Entidad\"]==\"Jalisco\"][\"Municipio\"].unique()"
   ]
  },
  {
   "cell_type": "code",
   "execution_count": 24,
   "id": "8671f195",
   "metadata": {},
   "outputs": [
    {
     "data": {
      "text/html": [
       "<div>\n",
       "<style scoped>\n",
       "    .dataframe tbody tr th:only-of-type {\n",
       "        vertical-align: middle;\n",
       "    }\n",
       "\n",
       "    .dataframe tbody tr th {\n",
       "        vertical-align: top;\n",
       "    }\n",
       "\n",
       "    .dataframe thead th {\n",
       "        text-align: right;\n",
       "    }\n",
       "</style>\n",
       "<table border=\"1\" class=\"dataframe\">\n",
       "  <thead>\n",
       "    <tr style=\"text-align: right;\">\n",
       "      <th></th>\n",
       "      <th>Entidad_federativa</th>\n",
       "      <th>Municipio</th>\n",
       "      <th>Tipo_de_Fuente</th>\n",
       "      <th>SO_2</th>\n",
       "      <th>CO</th>\n",
       "      <th>NOx</th>\n",
       "      <th>COV</th>\n",
       "      <th>PM_010</th>\n",
       "      <th>PM_2_5</th>\n",
       "      <th>NH_3</th>\n",
       "      <th>Entidad</th>\n",
       "    </tr>\n",
       "  </thead>\n",
       "  <tbody>\n",
       "    <tr>\n",
       "      <th>2519</th>\n",
       "      <td>Jalisco</td>\n",
       "      <td>Guadalajara</td>\n",
       "      <td>Fuentes fijas</td>\n",
       "      <td>426.095</td>\n",
       "      <td>466.284</td>\n",
       "      <td>827.878</td>\n",
       "      <td>1334.398</td>\n",
       "      <td>199.669</td>\n",
       "      <td>128.923</td>\n",
       "      <td>15.100</td>\n",
       "      <td>Jalisco</td>\n",
       "    </tr>\n",
       "    <tr>\n",
       "      <th>2520</th>\n",
       "      <td>Jalisco</td>\n",
       "      <td>Guadalajara</td>\n",
       "      <td>Fuentes de área</td>\n",
       "      <td>2.088</td>\n",
       "      <td>2289.822</td>\n",
       "      <td>215.986</td>\n",
       "      <td>30839.410</td>\n",
       "      <td>863.510</td>\n",
       "      <td>208.866</td>\n",
       "      <td>7.301</td>\n",
       "      <td>Jalisco</td>\n",
       "    </tr>\n",
       "    <tr>\n",
       "      <th>2521</th>\n",
       "      <td>Jalisco</td>\n",
       "      <td>Guadalajara</td>\n",
       "      <td>Fuentes móviles carreteros</td>\n",
       "      <td>57.912</td>\n",
       "      <td>83375.297</td>\n",
       "      <td>20097.095</td>\n",
       "      <td>10558.568</td>\n",
       "      <td>532.973</td>\n",
       "      <td>483.508</td>\n",
       "      <td>196.431</td>\n",
       "      <td>Jalisco</td>\n",
       "    </tr>\n",
       "    <tr>\n",
       "      <th>2522</th>\n",
       "      <td>Jalisco</td>\n",
       "      <td>Guadalajara</td>\n",
       "      <td>Fuentes móviles que no circulan por carretera</td>\n",
       "      <td>105.973</td>\n",
       "      <td>1470.505</td>\n",
       "      <td>1143.660</td>\n",
       "      <td>152.984</td>\n",
       "      <td>16.137</td>\n",
       "      <td>15.958</td>\n",
       "      <td>0.010</td>\n",
       "      <td>Jalisco</td>\n",
       "    </tr>\n",
       "    <tr>\n",
       "      <th>2523</th>\n",
       "      <td>Jalisco</td>\n",
       "      <td>Guadalajara</td>\n",
       "      <td>Fuentes naturales</td>\n",
       "      <td>NaN</td>\n",
       "      <td>NaN</td>\n",
       "      <td>6.455</td>\n",
       "      <td>369.236</td>\n",
       "      <td>NaN</td>\n",
       "      <td>NaN</td>\n",
       "      <td>NaN</td>\n",
       "      <td>Jalisco</td>\n",
       "    </tr>\n",
       "  </tbody>\n",
       "</table>\n",
       "</div>"
      ],
      "text/plain": [
       "     Entidad_federativa    Municipio  \\\n",
       "2519            Jalisco  Guadalajara   \n",
       "2520            Jalisco  Guadalajara   \n",
       "2521            Jalisco  Guadalajara   \n",
       "2522            Jalisco  Guadalajara   \n",
       "2523            Jalisco  Guadalajara   \n",
       "\n",
       "                                     Tipo_de_Fuente     SO_2         CO  \\\n",
       "2519                                  Fuentes fijas  426.095    466.284   \n",
       "2520                                Fuentes de área    2.088   2289.822   \n",
       "2521                     Fuentes móviles carreteros   57.912  83375.297   \n",
       "2522  Fuentes móviles que no circulan por carretera  105.973   1470.505   \n",
       "2523                              Fuentes naturales      NaN        NaN   \n",
       "\n",
       "            NOx        COV   PM_010   PM_2_5     NH_3  Entidad  \n",
       "2519    827.878   1334.398  199.669  128.923   15.100  Jalisco  \n",
       "2520    215.986  30839.410  863.510  208.866    7.301  Jalisco  \n",
       "2521  20097.095  10558.568  532.973  483.508  196.431  Jalisco  \n",
       "2522   1143.660    152.984   16.137   15.958    0.010  Jalisco  \n",
       "2523      6.455    369.236      NaN      NaN      NaN  Jalisco  "
      ]
     },
     "execution_count": 24,
     "metadata": {},
     "output_type": "execute_result"
    }
   ],
   "source": [
    "contaminantes[contaminantes[\"Municipio\"]==\"Guadalajara\"]"
   ]
  },
  {
   "cell_type": "code",
   "execution_count": 25,
   "id": "cf7a122c",
   "metadata": {},
   "outputs": [
    {
     "data": {
      "text/plain": [
       "array(['Fuentes fijas', 'Fuentes de área', 'Fuentes móviles carreteros',\n",
       "       'Fuentes móviles que no circulan por carretera',\n",
       "       'Fuentes naturales'], dtype=object)"
      ]
     },
     "execution_count": 25,
     "metadata": {},
     "output_type": "execute_result"
    }
   ],
   "source": [
    "contaminantes[\"Tipo_de_Fuente\"].unique()"
   ]
  },
  {
   "cell_type": "code",
   "execution_count": null,
   "id": "e9019338",
   "metadata": {},
   "outputs": [],
   "source": []
  }
 ],
 "metadata": {
  "kernelspec": {
   "display_name": "Python 3",
   "language": "python",
   "name": "python3"
  },
  "language_info": {
   "codemirror_mode": {
    "name": "ipython",
    "version": 3
   },
   "file_extension": ".py",
   "mimetype": "text/x-python",
   "name": "python",
   "nbconvert_exporter": "python",
   "pygments_lexer": "ipython3",
   "version": "3.11.4"
  }
 },
 "nbformat": 4,
 "nbformat_minor": 5
}
